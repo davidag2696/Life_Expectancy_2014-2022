{
 "cells": [
  {
   "cell_type": "code",
   "execution_count": 1,
   "id": "4fccf5d1-9489-4856-ba67-c6c812cd264b",
   "metadata": {},
   "outputs": [
    {
     "data": {
      "text/plain": [
       "'\\n1. Pandas\\n    General dataframe import, manipulation and exploration\\n    \\n2. Numpy\\n    General produces general aggregates from lists\\n    \\n3. Correlation Coefficient and Interquartile Range\\n\\n4. Stats Models\\n    Produce line of best fit \\n    Test assumptions of linear regressions\\n\\n5. T Tests\\n    Measures the probability that a given outcome is due just to chance or the alteration of a variable (how likely it is that the null hypothesis is false). \\n    Gets the p value and can create a sample mean distribution\\n\\n6. Random\\n    For any random number\\n    Creates a binomial null distribution\\n    \\n7. Scipy.Stats\\n    Binomial Probability Functions: \\n        a. Probability Mass Function (PMF) - the likelihood (p) that a given outcome will happen a designated amount of times\\n        b. Cumulative Distribution Function (CDF) - the likelihood (p) that a given outcome will happen a designated amount of times OR LESS\\n    Creation of a normal distribution\\n    Poisson Distribution (looking at the amount of times an outcome occurrs within a designated space-time) can apply PMF and CDF\\n    \\n8. Visualizations - Seaborn\\n\\n9. Visualizations - Matplotlib.Plt\\n'"
      ]
     },
     "execution_count": 1,
     "metadata": {},
     "output_type": "execute_result"
    }
   ],
   "source": [
    "#Libraries and some associated functions for quick reference. Table of Contents Below:\n",
    "\"\"\"\n",
    "1. Pandas\n",
    "    General dataframe import, manipulation and exploration\n",
    "    \n",
    "2. Numpy\n",
    "    General produces general aggregates from lists\n",
    "    \n",
    "3. Correlation Coefficient and Interquartile Range\n",
    "\n",
    "4. Stats Models\n",
    "    Produce line of best fit \n",
    "    Test assumptions of linear regressions\n",
    "\n",
    "5. T Tests\n",
    "    Measures the probability that a given outcome is due just to chance or the alteration of a variable (how likely it is that the null hypothesis is false). \n",
    "    Gets the p value and can create a sample mean distribution\n",
    "\n",
    "6. Random\n",
    "    For any random number\n",
    "    Creates a binomial null distribution\n",
    "    \n",
    "7. Scipy.Stats\n",
    "    Binomial Probability Functions: \n",
    "        a. Probability Mass Function (PMF) - the likelihood (p) that a given outcome will happen a designated amount of times\n",
    "        b. Cumulative Distribution Function (CDF) - the likelihood (p) that a given outcome will happen a designated amount of times OR LESS\n",
    "    Creation of a normal distribution\n",
    "    Poisson Distribution (looking at the amount of times an outcome occurrs within a designated space-time) can apply PMF and CDF\n",
    "    \n",
    "8. Visualizations - Seaborn\n",
    "\n",
    "9. Visualizations - Matplotlib.Plt\n",
    "\"\"\""
   ]
  },
  {
   "cell_type": "code",
   "execution_count": 2,
   "id": "abe33be4-a00a-4052-b157-8c5a27858872",
   "metadata": {},
   "outputs": [
    {
     "data": {
      "text/plain": [
       "\"\\npd.read_csv()\\npd.merge(table1,table2,on='column')\\npd.info(df) like df.describe()\\ndf.iloc[index] for rows\\ndf_pivot = df.pivot(columns = 'top_table', rows = 'left_table', values='fill_table')\\npd.concat([df1,df2])\\ndf.agg({'column1','[aggregate measure]', 'column2', '[e.g.]mean'})\\n\""
      ]
     },
     "execution_count": 2,
     "metadata": {},
     "output_type": "execute_result"
    }
   ],
   "source": [
    "#All around good to have just in case\n",
    "import pandas as pd\n",
    "\"\"\"\n",
    "pd.read_csv()\n",
    "pd.merge(table1,table2,on='column')\n",
    "pd.info(df) like df.describe()\n",
    "df.iloc[index] for rows\n",
    "df_pivot = df.pivot(columns = 'top_table', rows = 'left_table', values='fill_table')\n",
    "pd.concat([df1,df2])\n",
    "df.agg({'column1','[aggregate measure]', 'column2', '[e.g.]mean'})\n",
    "\"\"\"\n"
   ]
  },
  {
   "cell_type": "code",
   "execution_count": 3,
   "id": "8912893f-4b0c-426a-807a-611cc466452e",
   "metadata": {},
   "outputs": [
    {
     "data": {
      "text/plain": [
       "'\\nnp.[aggregate measure]()\\n'"
      ]
     },
     "execution_count": 3,
     "metadata": {},
     "output_type": "execute_result"
    }
   ],
   "source": [
    "#General calculation library\n",
    "import numpy as np\n",
    "\"\"\"\n",
    "np.[aggregate measure]()\n",
    "\"\"\""
   ]
  },
  {
   "cell_type": "code",
   "execution_count": 4,
   "id": "53da9db9-55ba-4451-9a85-e80921ba048b",
   "metadata": {},
   "outputs": [
    {
     "data": {
      "text/plain": [
       "\"  interquartile_range = iqr(df['column'])  \""
      ]
     },
     "execution_count": 4,
     "metadata": {},
     "output_type": "execute_result"
    }
   ],
   "source": [
    "#Statistical libraries\n",
    "\n",
    "# correlation coefficient\n",
    "from scipy.stats import pearsonr\n",
    "\"\"\"  correlation_variable, p = pearsonr(df['column1'],df['column2'])  \"\"\"\n",
    "\n",
    "# interquartile range\n",
    "from scipy.stats import iqr\n",
    "\"\"\"  interquartile_range = iqr(df['column'])  \"\"\""
   ]
  },
  {
   "cell_type": "code",
   "execution_count": 5,
   "id": "cccbd313-f0fc-4201-9a49-177dfde18823",
   "metadata": {},
   "outputs": [
    {
     "data": {
      "text/plain": [
       "\"\\ncreate and fit a model for data:\\nmodel = sm.OLS.from_formula('column1 ~ column2', df)\\nresults = model.fit()\\n\\nparameters like slope and y-intercept of fitted line:\\nparameters = results.params\\n\\n  Test Homosedacity\\ncalculate fitted values or values of best fit:\\nfitted_values = results.predict(df)\\n\\ncalculate residual values:\\nresiduals = df['column'] - fitted_values\\nprint(residuals.head())\\n\""
      ]
     },
     "execution_count": 5,
     "metadata": {},
     "output_type": "execute_result"
    }
   ],
   "source": [
    "#Statistical libraries\n",
    "\n",
    "#stats models\n",
    "import statsmodels.api as sm\n",
    "\"\"\"\n",
    "create and fit a model for data:\n",
    "model = sm.OLS.from_formula('column1 ~ column2', df)\n",
    "results = model.fit()\n",
    "\n",
    "parameters like slope and y-intercept of fitted line:\n",
    "parameters = results.params\n",
    "\n",
    "  Test Homosedacity\n",
    "calculate fitted values or values of best fit:\n",
    "fitted_values = results.predict(df)\n",
    "\n",
    "calculate residual values:\n",
    "residuals = df['column'] - fitted_values\n",
    "print(residuals.head())\n",
    "\"\"\""
   ]
  },
  {
   "cell_type": "code",
   "execution_count": 6,
   "id": "90ce94b2-9e94-4757-a4e4-13d07b8b4d6f",
   "metadata": {},
   "outputs": [
    {
     "data": {
      "text/plain": [
       "\"\\nsome of these will call for a large number for a sample size or a random population\\nobscenly_large_number = 800\\n\\nreturns the pvalue for a series of data\\ntstat, pval = ttest_1samp(df['column'], target_tested_for_significance)\\n\\ngetting random samples for data and getting their mean:\\nsamp_size = arbitrary_number?\\npopulation = np.random.normal(loc = population_mean, scale = population_std, size = obscenly_large_number)\\npopulation = list(population)\\n\\nsample_means = []\\n\\nfor i in range(10000):\\n    samp = random.sample(population,samp_size)\\n    sample_means.append(np.mean(samp))\\n\\nplt.hist(sample_means)\\n\""
      ]
     },
     "execution_count": 6,
     "metadata": {},
     "output_type": "execute_result"
    }
   ],
   "source": [
    "#Statistical libraries\n",
    "#t - tests\n",
    "from scipy.stats import ttest_1samp\n",
    "\"\"\"\n",
    "some of these will call for a large number for a sample size or a random population\n",
    "obscenly_large_number = 800\n",
    "\n",
    "returns the pvalue for a series of data\n",
    "tstat, pval = ttest_1samp(df['column'], target_tested_for_significance)\n",
    "\n",
    "getting random samples for data and getting their mean:\n",
    "samp_size = arbitrary_number?\n",
    "population = np.random.normal(loc = population_mean, scale = population_std, size = obscenly_large_number)\n",
    "population = list(population)\n",
    "\n",
    "sample_means = []\n",
    "\n",
    "for i in range(10000):\n",
    "    samp = random.sample(population,samp_size)\n",
    "    sample_means.append(np.mean(samp))\n",
    "\n",
    "plt.hist(sample_means)\n",
    "\"\"\""
   ]
  },
  {
   "cell_type": "code",
   "execution_count": 7,
   "id": "7a05f5cf-7d2a-480f-8cf3-7a130209a948",
   "metadata": {},
   "outputs": [
    {
     "data": {
      "text/plain": [
       "\"\\n   BINOMIAL NULL DISTRIBUTIONS\\n\\ncreate ideal data from randomly generated values given constraints:\\ntrials = np.random.choice(['apples','oranges'], size = 100, p=[0.75,0.25])\\nsuccess_list = []\\nfor i in range(1,1000):\\n    null_outcomes = np.random.choice(['variable_1','variable_2'], size = obscenly_large_number, p=[.75,.25]) #here p is probability of getting either value\\n    num_apples = np.sum(null_outcomes == 'apples')\\n    success_list.append(num_apples)\\n\\n# MUST convert list to array for numpy functions to work\\nsuccess_list = np.array(success_list)\\np_value = np.sum(success_list <= target)/len(success_list)\\nconfidence = list(np.percentile(success_list, [2.5,97.5]))\\n\\n#random choice with replacement\\ndef choose_with_replacement(list,trials):\\n    result = np.random.choice(list, size = trials, replace = True)\\n    return result\\n\""
      ]
     },
     "execution_count": 7,
     "metadata": {},
     "output_type": "execute_result"
    }
   ],
   "source": [
    "#Statistical libraries\n",
    "\n",
    "#random numbers and binomial distributions and random sampling\n",
    "import random as random\n",
    "\"\"\"\n",
    "   BINOMIAL NULL DISTRIBUTIONS\n",
    "\n",
    "create ideal data from randomly generated values given constraints:\n",
    "trials = np.random.choice(['apples','oranges'], size = 100, p=[0.75,0.25])\n",
    "success_list = []\n",
    "for i in range(1,1000):\n",
    "    null_outcomes = np.random.choice(['variable_1','variable_2'], size = obscenly_large_number, p=[.75,.25]) #here p is probability of getting either value\n",
    "    num_apples = np.sum(null_outcomes == 'apples')\n",
    "    success_list.append(num_apples)\n",
    "\n",
    "# MUST convert list to array for numpy functions to work\n",
    "success_list = np.array(success_list)\n",
    "p_value = np.sum(success_list <= target)/len(success_list)\n",
    "confidence = list(np.percentile(success_list, [2.5,97.5]))\n",
    "\n",
    "#random choice with replacement\n",
    "def choose_with_replacement(list,trials):\n",
    "    result = np.random.choice(list, size = trials, replace = True)\n",
    "    return result\n",
    "\"\"\""
   ]
  },
  {
   "cell_type": "code",
   "execution_count": 8,
   "id": "4a181e74-002a-4f14-a72f-b0fe9ac92293",
   "metadata": {},
   "outputs": [
    {
     "data": {
      "text/plain": [
       "\"\\n# binomial probability functions:\\n# x is the value of interest or the number of times we want to see a specified outcome, so times we want to see Heads for a coin flip out of n trials\\n# n is the number of trials\\n# p is the probability of success\\n# all probabilities added up always equal 1 because of course. The probability of all parts added up is the whole\\n\\nbinomial probability mass function: the probability of seeing x times in a dataset\\nprob_1 = stats.binom.pmf(x,n,0.5)\\n\\nbinomial cumulative distribution function: the probability of x times or less in a dataset\\ndef cp(x,n,p):\\n    res = stats.binom.cdf(x,n,p)\\n    return res\\n\\n# x is the specific observance\\n# mean or loc is the mean of the distribution\\n# scale is the standard deviation of the normal distribution\\n\\n# notation for a normal distribution Normal(mean,std)\\ndef norm_dis(x,mean,scale):\\n    res = stats.norm.cdf(x,mean,scale)\\n    return res\\n\\n# Poisson distribution to describe the frequency of an occurance given a fixed space-time\\n# stats.poisson.pmf to describe the probability of observing a specific occurrance x number of times\\n\\n# example: it is expected that 10 travelers will cross the road in 1 hour, find probability of 4 travelers\\ndef poi_p(x,mean):\\n    res = stats.poisson.pmf(x,mean)\\n    return res\\nprint(poi_p(4,10))\\n\\n# create a normal distribution given std and sample size\\npop_stdev = 20\\nsamp_size = 4\\n\\npopulation = np.random.normal(loc = 20, scale = pop_stdev, size = 1000)\\npopulation = list(population)\\n\\nsample_means = []\\n\\nfor i in range(10000):\\n    samp = random.sample(population,samp_size)\\n    sample_means.append(np.mean(samp))\\n\\nmean_mean = np.mean(sample_means)\\n\\nplt.hist(sample_means, edgecolor='black')\\nplt.show()\\nplt.clf()\\n\""
      ]
     },
     "execution_count": 8,
     "metadata": {},
     "output_type": "execute_result"
    }
   ],
   "source": [
    "#Statistical libraries\n",
    "\n",
    "#stats and more binomial stuff\n",
    "import scipy.stats as stats\n",
    "\"\"\"\n",
    "# binomial probability functions:\n",
    "# x is the value of interest or the number of times we want to see a specified outcome, so times we want to see Heads for a coin flip out of n trials\n",
    "# n is the number of trials\n",
    "# p is the probability of success\n",
    "# all probabilities added up always equal 1 because of course. The probability of all parts added up is the whole\n",
    "\n",
    "binomial probability mass function: the probability of seeing x times in a dataset\n",
    "prob_1 = stats.binom.pmf(x,n,0.5)\n",
    "\n",
    "binomial cumulative distribution function: the probability of x times or less in a dataset\n",
    "def cp(x,n,p):\n",
    "    res = stats.binom.cdf(x,n,p)\n",
    "    return res\n",
    "\n",
    "# x is the specific observance\n",
    "# mean or loc is the mean of the distribution\n",
    "# scale is the standard deviation of the normal distribution\n",
    "\n",
    "# notation for a normal distribution Normal(mean,std)\n",
    "def norm_dis(x,mean,scale):\n",
    "    res = stats.norm.cdf(x,mean,scale)\n",
    "    return res\n",
    "\n",
    "# Poisson distribution to describe the frequency of an occurance given a fixed space-time\n",
    "# stats.poisson.pmf to describe the probability of observing a specific occurrance x number of times\n",
    "\n",
    "# example: it is expected that 10 travelers will cross the road in 1 hour, find probability of 4 travelers\n",
    "def poi_p(x,mean):\n",
    "    res = stats.poisson.pmf(x,mean)\n",
    "    return res\n",
    "print(poi_p(4,10))\n",
    "\n",
    "# create a normal distribution given std and sample size\n",
    "pop_stdev = 20\n",
    "samp_size = 4\n",
    "\n",
    "population = np.random.normal(loc = 20, scale = pop_stdev, size = 1000)\n",
    "population = list(population)\n",
    "\n",
    "sample_means = []\n",
    "\n",
    "for i in range(10000):\n",
    "    samp = random.sample(population,samp_size)\n",
    "    sample_means.append(np.mean(samp))\n",
    "\n",
    "mean_mean = np.mean(sample_means)\n",
    "\n",
    "plt.hist(sample_means, edgecolor='black')\n",
    "plt.show()\n",
    "plt.clf()\n",
    "\"\"\""
   ]
  },
  {
   "cell_type": "code",
   "execution_count": 9,
   "id": "2f3ce8f8-7521-4e8a-a0cd-ca95452beca6",
   "metadata": {},
   "outputs": [
    {
     "data": {
      "text/plain": [
       "\"\\n# seaborn plots\\n\\n# boxplot\\nsns.boxplot(x='column1',data=df)\\nplt.show()\\nplt.close()\\n\\n# histogram\\nsns.histplot(x='column1',data=df)\\nplt.show()\\nplt.close()\\n\\n# bar chart\\nsns.countplot(x='column1', data=df)\\nplt.show()\\nplt.close()\\n\\n# scatterplot\\nsns.lmplot(x='var_1', y='var_2', data=df)\\nplt.show()\\nplt.clf()\\n\\n# pie chart\\ndf.value_counts().plot.pie()\\nplt.show()\\nplt.close()\\n\""
      ]
     },
     "execution_count": 9,
     "metadata": {},
     "output_type": "execute_result"
    }
   ],
   "source": [
    "#Visualizations\n",
    "import seaborn as sns\n",
    "\"\"\"\n",
    "# seaborn plots\n",
    "\n",
    "# boxplot\n",
    "sns.boxplot(x='column1',data=df)\n",
    "plt.show()\n",
    "plt.close()\n",
    "\n",
    "# histogram\n",
    "sns.histplot(x='column1',data=df)\n",
    "plt.show()\n",
    "plt.close()\n",
    "\n",
    "# bar chart\n",
    "sns.countplot(x='column1', data=df)\n",
    "plt.show()\n",
    "plt.close()\n",
    "\n",
    "# scatterplot\n",
    "sns.lmplot(x='var_1', y='var_2', data=df)\n",
    "plt.show()\n",
    "plt.clf()\n",
    "\n",
    "# pie chart\n",
    "df.value_counts().plot.pie()\n",
    "plt.show()\n",
    "plt.close()\n",
    "\"\"\""
   ]
  },
  {
   "cell_type": "code",
   "execution_count": 10,
   "id": "c8e39c75-0398-4015-aca2-c2e82054973e",
   "metadata": {},
   "outputs": [
    {
     "data": {
      "text/plain": [
       "'\\n#plt plots\\n\\nsubplots and axis objects:\\nax = plt.subplot(row, column, index)\\n\\nplots:\\n  plt.plot(x,y,linestyle=\"--\",color=\"color\",marker=\". or *\", weight(?) = #, label = \"label\")\\n  \\n  plt.hist(x,edgecolor=\\'color\\', density = True/False, alpha = 0:1)\\n  \\n  plt.bar(x,y,edgecolor=\\'color\\',alpha = 0:1, label = \"label\")\\n  \\n#can\\'t find the notes, ask Chat\\nplt.pie(df[x].value_counts(), \\n        labels = [list of labels], \\n        autopct=\\'%0.1f%%\\', #for percentages with 1 decimal place or \\'%d%%\\' for integer percentage\\n        pctdistance = 1.15 #give the labels distance from the pie plot\\n        colors = [list of colors in same sequence as data],\\n        explode = (list the same length as data that shows where in sequence to pop out data from rest\\n                    of the data. Used 0.1 in example),\\n        shadow = True,\\n        startangle = 345)\\nplt.axis(\\'Equal\\')\\nplt.title()\\nplt.legend([list of labels], loc=\"string of right, left, etc.\")\\nplt.show()\\nplt.clf()\\n  \\n#function for plotting on 2 axes\\ndef line_plot_custom(dataframe,v1,v2,x_axis):\\n    y1 = df[v1]\\n    y2 = df[v2]\\n    \\n    plt.title(country)\\n    \\n    #set first axis\\n    ax1 = plt.subplot()\\n    plt.plot(df[x_axis], y1, color = \\'red\\')\\n    plt.ylabel(v1,color=\\'red\\')\\n    ax1.set_yticks(np.arange(np.min(y1), np.max(y1)+1, (np.max(y1)-np.min(y1))/5))\\n    \\n    #set second axis\\n    ax2 = ax1.twinx()\\n    plt.plot(df[x_axis], y2, color = \\'blue\\')\\n    ax2.set_yticks(np.arange(np.min(y2),np.max(y2)+1,(np.max(y2)-np.min(y2))/5))\\n    plt.ylabel(v2,color=\\'blue\\')\\n    \\n    plt.show()\\n    return \\n'"
      ]
     },
     "execution_count": 10,
     "metadata": {},
     "output_type": "execute_result"
    }
   ],
   "source": [
    "#Visualizations\n",
    "import matplotlib.pyplot as plt\n",
    "\n",
    "\"\"\"\n",
    "#plt plots\n",
    "\n",
    "subplots and axis objects:\n",
    "ax = plt.subplot(row, column, index)\n",
    "\n",
    "plots:\n",
    "  plt.plot(x,y,linestyle=\"--\",color=\"color\",marker=\". or *\", weight(?) = #, label = \"label\")\n",
    "  \n",
    "  plt.hist(x,edgecolor='color', density = True/False, alpha = 0:1)\n",
    "  \n",
    "  plt.bar(x,y,edgecolor='color',alpha = 0:1, label = \"label\")\n",
    "  \n",
    "#can't find the notes, ask Chat\n",
    "plt.pie(df[x].value_counts(), \n",
    "        labels = [list of labels], \n",
    "        autopct='%0.1f%%', #for percentages with 1 decimal place or '%d%%' for integer percentage\n",
    "        pctdistance = 1.15 #give the labels distance from the pie plot\n",
    "        colors = [list of colors in same sequence as data],\n",
    "        explode = (list the same length as data that shows where in sequence to pop out data from rest\n",
    "                    of the data. Used 0.1 in example),\n",
    "        shadow = True,\n",
    "        startangle = 345)\n",
    "plt.axis('Equal')\n",
    "plt.title()\n",
    "plt.legend([list of labels], loc=\"string of right, left, etc.\")\n",
    "plt.show()\n",
    "plt.clf()\n",
    "  \n",
    "#function for plotting on 2 axes\n",
    "def line_plot_custom(dataframe,v1,v2,x_axis):\n",
    "    y1 = df[v1]\n",
    "    y2 = df[v2]\n",
    "    \n",
    "    plt.title(country)\n",
    "    \n",
    "    #set first axis\n",
    "    ax1 = plt.subplot()\n",
    "    plt.plot(df[x_axis], y1, color = 'red')\n",
    "    plt.ylabel(v1,color='red')\n",
    "    ax1.set_yticks(np.arange(np.min(y1), np.max(y1)+1, (np.max(y1)-np.min(y1))/5))\n",
    "    \n",
    "    #set second axis\n",
    "    ax2 = ax1.twinx()\n",
    "    plt.plot(df[x_axis], y2, color = 'blue')\n",
    "    ax2.set_yticks(np.arange(np.min(y2),np.max(y2)+1,(np.max(y2)-np.min(y2))/5))\n",
    "    plt.ylabel(v2,color='blue')\n",
    "    \n",
    "    plt.show()\n",
    "    return \n",
    "\"\"\""
   ]
  }
 ],
 "metadata": {
  "kernelspec": {
   "display_name": "Python 3 (ipykernel)",
   "language": "python",
   "name": "python3"
  },
  "language_info": {
   "codemirror_mode": {
    "name": "ipython",
    "version": 3
   },
   "file_extension": ".py",
   "mimetype": "text/x-python",
   "name": "python",
   "nbconvert_exporter": "python",
   "pygments_lexer": "ipython3",
   "version": "3.10.9"
  }
 },
 "nbformat": 4,
 "nbformat_minor": 5
}
